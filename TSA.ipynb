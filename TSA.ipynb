{
 "metadata": {
  "name": "TSA"
 },
 "nbformat": 3,
 "nbformat_minor": 0,
 "worksheets": [
  {
   "cells": [
    {
     "cell_type": "code",
     "collapsed": false,
     "input": "import numpy as np\nimport pandas as pd\nfrom matplotlib import pyplot as plt\nimport statsmodels.tsa.api as tsa\nimport statsmodels.api as sm\nfrom statsmodels.tsa.arima_process import arma_generate_sample\nfrom ggplot import *\nfrom dateutil import parser\n",
     "language": "python",
     "metadata": {},
     "outputs": []
    }
   ],
   "metadata": {}
  }
 ]
}